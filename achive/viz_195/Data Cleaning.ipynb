{
 "cells": [
  {
   "cell_type": "code",
   "execution_count": 8,
   "metadata": {},
   "outputs": [],
   "source": [
    "import pandas as pd"
   ]
  },
  {
   "cell_type": "code",
   "execution_count": 9,
   "metadata": {},
   "outputs": [],
   "source": [
    "def reformat(d):   \n",
    "    dates = d.split(\"/\")\n",
    "    if len(dates[0]) < 2:\n",
    "        dates[0] = \"0\" + dates[0] \n",
    "    if len(dates[1]) < 2:\n",
    "        dates[1] = \"0\" + dates[1] \n",
    "    dates.insert(0, dates.pop())\n",
    "    return \"/\".join(dates)"
   ]
  },
  {
   "cell_type": "code",
   "execution_count": 10,
   "metadata": {},
   "outputs": [],
   "source": [
    "df = pd.read_csv(\"Data_ DRC Ebola Outbreak, North Kivu and Ituri - MOH-By-Health-Zone.csv\")\n",
    "df[\"report_date\"] = df[\"report_date\"].apply(reformat)"
   ]
  },
  {
   "cell_type": "code",
   "execution_count": 23,
   "metadata": {},
   "outputs": [],
   "source": [
    "df_TotalCase = df[[\"health_zone\", \"report_date\", \"total_cases\", \"province\"]]"
   ]
  },
  {
   "cell_type": "code",
   "execution_count": 25,
   "metadata": {},
   "outputs": [],
   "source": [
    "df_out = pd.pivot_table(df_TotalCase, index=['province','health_zone'], columns='report_date')\n",
    "df_out.to_csv(\"TotalCases.csv\")"
   ]
  },
  {
   "cell_type": "code",
   "execution_count": null,
   "metadata": {},
   "outputs": [],
   "source": []
  },
  {
   "cell_type": "code",
   "execution_count": 17,
   "metadata": {},
   "outputs": [],
   "source": [
    "df_DeathCase = df[[\"health_zone\", \"report_date\", \"total_deaths\"]]"
   ]
  },
  {
   "cell_type": "code",
   "execution_count": 18,
   "metadata": {},
   "outputs": [],
   "source": [
    "df_out = df_DeathCase.pivot(index='health_zone', columns='report_date')\n",
    "df_out.to_csv(\"DeathCase.csv\")"
   ]
  },
  {
   "cell_type": "code",
   "execution_count": null,
   "metadata": {},
   "outputs": [],
   "source": []
  }
 ],
 "metadata": {
  "kernelspec": {
   "display_name": "Python 3.7",
   "language": "python",
   "name": "jh"
  },
  "language_info": {
   "codemirror_mode": {
    "name": "ipython",
    "version": 3
   },
   "file_extension": ".py",
   "mimetype": "text/x-python",
   "name": "python",
   "nbconvert_exporter": "python",
   "pygments_lexer": "ipython3",
   "version": "3.7.0"
  }
 },
 "nbformat": 4,
 "nbformat_minor": 2
}
